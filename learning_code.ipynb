{
 "cells": [
  {
   "cell_type": "code",
   "execution_count": 27,
   "id": "74c41089",
   "metadata": {},
   "outputs": [],
   "source": [
    "import torch\n",
    "from torch import nn, optim, no_grad\n",
    "import numpy as np\n",
    "import torchvision\n",
    "import torchvision.transforms as tt\n",
    "from tqdm import tqdm\n",
    "\n",
    "import os\n",
    "import matplotlib.pyplot as plt"
   ]
  },
  {
   "cell_type": "code",
   "execution_count": 7,
   "id": "e0e36b93",
   "metadata": {},
   "outputs": [],
   "source": [
    "os.getcwd()\n",
    "data_path = f\"{os.getcwd()}/data/\""
   ]
  },
  {
   "cell_type": "markdown",
   "id": "fd4a03ed",
   "metadata": {},
   "source": [
    "# Import the dataset you want\n",
    "\n",
    "Change the dimensions, etc."
   ]
  },
  {
   "cell_type": "code",
   "execution_count": 8,
   "id": "ba85ec8d",
   "metadata": {},
   "outputs": [
    {
     "name": "stdout",
     "output_type": "stream",
     "text": [
      "Downloading https://www.cs.toronto.edu/~kriz/cifar-100-python.tar.gz to /Users/m.goibert/Documents/Criteo/Projets_Recherche/General_learning_code/data/cifar-100-python.tar.gz\n"
     ]
    },
    {
     "data": {
      "application/vnd.jupyter.widget-view+json": {
       "model_id": "d4af1f1514b647e7ab6354863cc45d76",
       "version_major": 2,
       "version_minor": 0
      },
      "text/plain": [
       "  0%|          | 0/169001437 [00:00<?, ?it/s]"
      ]
     },
     "metadata": {},
     "output_type": "display_data"
    },
    {
     "name": "stdout",
     "output_type": "stream",
     "text": [
      "Extracting /Users/m.goibert/Documents/Criteo/Projets_Recherche/General_learning_code/data/cifar-100-python.tar.gz to /Users/m.goibert/Documents/Criteo/Projets_Recherche/General_learning_code/data/\n",
      "Files already downloaded and verified\n"
     ]
    }
   ],
   "source": [
    "train_transform = tt.Compose([\n",
    "    tt.ToTensor(),\n",
    "    tt.Resize(256),\n",
    "])\n",
    "\n",
    "test_transform = tt.Compose([\n",
    "    tt.ToTensor(),\n",
    "    tt.Resize(256),\n",
    "])\n",
    "\n",
    "dataset_train = torchvision.datasets.CIFAR100(data_path, \n",
    "                                        train = True, \n",
    "                                        download = True,\n",
    "                                        transform=train_transform)\n",
    "dataset_test_val = torchvision.datasets.CIFAR100(data_path, \n",
    "                                        train = False, \n",
    "                                        download = True,\n",
    "                                        transform=test_transform)\n",
    "\n",
    "dataset_val = list()\n",
    "dataset_test = list()\n",
    "for i, data in enumerate(dataset_test_val):\n",
    "    if i < 1000:\n",
    "        dataset_val.append(data)\n",
    "    else:\n",
    "        dataset_test.append(data)"
   ]
  },
  {
   "cell_type": "markdown",
   "id": "5bd0606b",
   "metadata": {},
   "source": [
    "# Use the pretrained model you want"
   ]
  },
  {
   "cell_type": "code",
   "execution_count": 9,
   "id": "4a748232",
   "metadata": {},
   "outputs": [],
   "source": [
    "model_pretrained = torchvision.models.resnet18(pretrained=True, progress=True)"
   ]
  },
  {
   "cell_type": "code",
   "execution_count": 10,
   "id": "83ab7fd8",
   "metadata": {},
   "outputs": [],
   "source": [
    "class last_layer(nn.Module):\n",
    "    def __init__(self):\n",
    "        super(last_layer, self).__init__()\n",
    "        self.fc = nn.Linear(1000, 100)\n",
    "    \n",
    "    def forward(self, x):\n",
    "        x = self.fc(x)\n",
    "        return x\n",
    "\n",
    "last_layer_model = last_layer()"
   ]
  },
  {
   "cell_type": "code",
   "execution_count": 12,
   "id": "d780807a",
   "metadata": {},
   "outputs": [],
   "source": [
    "model = nn.Sequential(model_pretrained, last_layer_model)\n",
    "model = model.float()"
   ]
  },
  {
   "cell_type": "markdown",
   "id": "e6e5d703",
   "metadata": {},
   "source": [
    "# Train your model"
   ]
  },
  {
   "cell_type": "code",
   "execution_count": 24,
   "id": "9e90295a",
   "metadata": {},
   "outputs": [],
   "source": [
    "def compute_acc(model, dataset):\n",
    "    correct = 0\n",
    "    with no_grad():\n",
    "        for i, (data, target) in enumerate(dataset):\n",
    "            data = data.unsqueeze(0).float()\n",
    "            target = torch.tensor(target).unsqueeze(0)\n",
    "            pred = model(data).argmax(dim=1, keepdim=True)\n",
    "            correct += pred.eq(target.view_as(pred)).sum().item()\n",
    "    acc = correct / len(dataset)\n",
    "    return acc\n",
    "\n",
    "def fit(model, epochs, dataset, dataset_val, model_path=f\"{os.getcwd()}/trained_models/\"):\n",
    "    if not os.path.exists(model_path):\n",
    "        os.makedirs(model_path)\n",
    "    optimizer = optim.Adam(model.parameters(), lr=0.001, betas=(0.9, 0.99), weight_decay=0.01)\n",
    "    scheduler = optim.lr_scheduler.ReduceLROnPlateau(\n",
    "        optimizer, mode=\"min\", patience=10, verbose=True, factor=0.5)\n",
    "    loss_func = nn.CrossEntropyLoss()\n",
    "    \n",
    "    loss_history = list()\n",
    "    for epoch in range(epochs):\n",
    "        tot_loss = list()\n",
    "        for i_batch, (x_batch, y_batch) in enumerate(tqdm(dataset)):\n",
    "            if i_batch < 5:\n",
    "                x_batch = x_batch.unsqueeze(0).float()\n",
    "                y_batch = torch.tensor(y_batch).unsqueeze(0)\n",
    "                optimizer.zero_grad()\n",
    "                y_pred = model(x_batch)\n",
    "                loss = loss_func(y_pred, y_batch)\n",
    "                loss.backward()\n",
    "                optimizer.step()\n",
    "                tot_loss.append(loss.item())\n",
    "        loss_history.append(np.round(np.mean(tot_loss), 5))\n",
    "        print(f\"Epoch {epoch}: training loss = {np.round(np.mean(tot_loss), 5)}\")#, train. accuracy = {compute_acc(model, dataset_val)}\")\n",
    "\n",
    "    torch.save(model.state_dict(), model_path+f\"CIFAR100_ResNet_epochs_{epochs}.pt\")\n",
    "    return model, loss_history"
   ]
  },
  {
   "cell_type": "code",
   "execution_count": 25,
   "id": "089cd9cb",
   "metadata": {},
   "outputs": [
    {
     "name": "stderr",
     "output_type": "stream",
     "text": [
      "100%|███████████████████████████████████| 50000/50000 [00:12<00:00, 3884.72it/s]\n"
     ]
    },
    {
     "name": "stdout",
     "output_type": "stream",
     "text": [
      "Epoch 0: training loss = 3.12027\n"
     ]
    },
    {
     "name": "stderr",
     "output_type": "stream",
     "text": [
      "100%|███████████████████████████████████| 50000/50000 [00:13<00:00, 3711.42it/s]\n"
     ]
    },
    {
     "name": "stdout",
     "output_type": "stream",
     "text": [
      "Epoch 1: training loss = 1.94743\n"
     ]
    },
    {
     "name": "stderr",
     "output_type": "stream",
     "text": [
      "100%|███████████████████████████████████| 50000/50000 [00:14<00:00, 3426.61it/s]\n"
     ]
    },
    {
     "name": "stdout",
     "output_type": "stream",
     "text": [
      "Epoch 2: training loss = 1.7265\n"
     ]
    }
   ],
   "source": [
    "model_trained, loss_history = fit(model, 3, dataset_train, dataset_val)"
   ]
  },
  {
   "cell_type": "code",
   "execution_count": 28,
   "id": "27c2f721",
   "metadata": {},
   "outputs": [
    {
     "data": {
      "image/png": "[encoded data removed]",
      "text/plain": [
       "<Figure size 432x288 with 1 Axes>"
      ]
     },
     "metadata": {
      "needs_background": "light"
     },
     "output_type": "display_data"
    }
   ],
   "source": [
    "plt.plot(loss_history, \"o-\")\n",
    "plt.show()"
   ]
  }
 ],
 "metadata": {
  "kernelspec": {
   "display_name": "Python 3 (ipykernel)",
   "language": "python",
   "name": "python3"
  },
  "language_info": {
   "codemirror_mode": {
    "name": "ipython",
    "version": 3
   },
   "file_extension": ".py",
   "mimetype": "text/x-python",
   "name": "python",
   "nbconvert_exporter": "python",
   "pygments_lexer": "ipython3",
   "version": "3.9.7"
  }
 },
 "nbformat": 4,
 "nbformat_minor": 5
}
